{
 "cells": [
  {
   "cell_type": "code",
   "execution_count": 19,
   "metadata": {},
   "outputs": [],
   "source": [
    "import pandas as pd \n",
    "\n",
    "from sklearn.model_selection import train_test_split\n",
    "from sklearn.model_selection import GridSearchCV\n",
    "\n",
    "import numpy as np\n",
    "import pandas as pd\n",
    "import category_encoders as ce\n",
    "import matplotlib.pyplot as plt\n",
    "from sklearn.impute import SimpleImputer\n",
    "from sklearn.pipeline import make_pipeline\n",
    "from sklearn.metrics import accuracy_score\n",
    "from sklearn.preprocessing import StandardScaler\n",
    "from sklearn.model_selection import train_test_split\n",
    "from xgboost import XGBRegressor\n",
    "from sklearn.metrics import r2_score\n",
    "from sklearn.metrics import mean_squared_error\n",
    "import plotly.express as px"
   ]
  },
  {
   "cell_type": "markdown",
   "metadata": {},
   "source": [
    "# Load Data"
   ]
  },
  {
   "cell_type": "code",
   "execution_count": 8,
   "metadata": {},
   "outputs": [
    {
     "name": "stdout",
     "output_type": "stream",
     "text": [
      "(24691, 53) (3922, 8)\n"
     ]
    }
   ],
   "source": [
    "player = \"../data/Players.csv\"\n",
    "player_data = \"../data/player_data.csv\"\n",
    "season_stat = \"../data/Seasons_Stats.csv\"\n",
    "\n",
    "df_player = pd.read_csv(player)\n",
    "df_season = pd.read_csv(season_stat)\n",
    "print(df_season.shape, df_player.shape)"
   ]
  },
  {
   "cell_type": "code",
   "execution_count": 10,
   "metadata": {},
   "outputs": [],
   "source": [
    "#MAKING DICT TO MAP OVER NEW COLUMN\n",
    "dict_games = {\n",
    "    1950:68,\n",
    "    1951:66,\n",
    "    1952:70,\n",
    "    1953:72,\n",
    "    1954:72,\n",
    "    1955:72,\n",
    "    1956:72,\n",
    "    1957:72,\n",
    "    1958:72,\n",
    "    1959:75,\n",
    "    1960:79,\n",
    "    1961:80,\n",
    "    1962:80,\n",
    "    1963:80,\n",
    "    1964:80,\n",
    "    1965:80,\n",
    "    1966:81,\n",
    "    1967:82,\n",
    "    1968:82,\n",
    "    1969:82,\n",
    "    1970:82,\n",
    "    1971:82,\n",
    "    1972:82,\n",
    "    1973:82,\n",
    "    1974:82,\n",
    "    1975:82,\n",
    "    1976:82,\n",
    "    1977:82,\n",
    "    1978:82,\n",
    "    1979:82,\n",
    "    1980:82,\n",
    "    1981:82,\n",
    "    1982:82,\n",
    "    1983:82,\n",
    "    1984:82,\n",
    "    1985:82,\n",
    "    1986:82,\n",
    "    1987:82,\n",
    "    1988:82,\n",
    "    1989:82,\n",
    "    1990:82,\n",
    "    1991:82,\n",
    "    1992:82,\n",
    "    1993:82,\n",
    "    1994:82,\n",
    "    1995:82,\n",
    "    1996:82,\n",
    "    1997:82,\n",
    "    1998:82,\n",
    "    1999:50, #NBA Lockout\n",
    "    2000:82,\n",
    "    2001:82,\n",
    "    2002:82,\n",
    "    2003:82,\n",
    "    2004:82,\n",
    "    2005:82,\n",
    "    2006:82,\n",
    "    2007:82,\n",
    "    2008:82,\n",
    "    2009:82,\n",
    "    2010:82,\n",
    "    2011:66, #NBA Lockout\n",
    "    2012:82,\n",
    "    2013:82,\n",
    "    2014:82,\n",
    "    2015:82,\n",
    "    2016:82,\n",
    "    2017:82,\n",
    "    2018:82,\n",
    "}"
   ]
  },
  {
   "cell_type": "code",
   "execution_count": 15,
   "metadata": {},
   "outputs": [
    {
     "name": "stdout",
     "output_type": "stream",
     "text": [
      "X_train: (12765, 7)\n",
      "X_val: (4256, 7)\n",
      "X_test: (7603, 7)\n"
     ]
    }
   ],
   "source": [
    "# Using dict_games to map over a new series and normalize my y('G')\n",
    "df_season['season_length'] = df_season['Year'].map(dict_games)\n",
    "df_season['season_pct_played'] = df_season['G']/df_season['season_length']\n",
    "\n",
    "# Making train and test df\n",
    "testing = df_season[df_season['Year']>= 2005]\n",
    "training = df_season[df_season['Year'] < 2005]\n",
    "testing.shape, training.shape\n",
    "\n",
    "# Define X and y\n",
    "target = 'season_pct_played'\n",
    "features = ['Pos', 'BLK', 'STL', 'AST','Age', 'TRB', 'PTS']\n",
    "\n",
    "#DF X and y\n",
    "train, val = train_test_split(training, random_state=42) #Splitting merged df\n",
    "\n",
    "X_train = train[features]\n",
    "y_train = train[target]\n",
    "\n",
    "X_val = val[features]\n",
    "y_val = val[target]\n",
    "\n",
    "X_test = testing[features]\n",
    "y_test = testing[target]\n",
    "\n",
    "X_test_cv = training[features]\n",
    "y_train_cv = testing[target]\n",
    "\n",
    "print(f'X_train: {X_train.shape}')\n",
    "print(f'X_val: {X_val.shape}')\n",
    "print(f'X_test: {X_test.shape}')"
   ]
  },
  {
   "cell_type": "code",
   "execution_count": 30,
   "metadata": {},
   "outputs": [
    {
     "name": "stderr",
     "output_type": "stream",
     "text": [
      "/Users/mph/anaconda3/lib/python3.7/site-packages/xgboost/core.py:587: FutureWarning:\n",
      "\n",
      "Series.base is deprecated and will be removed in a future version\n",
      "\n",
      "/Users/mph/anaconda3/lib/python3.7/site-packages/xgboost/core.py:588: FutureWarning:\n",
      "\n",
      "Series.base is deprecated and will be removed in a future version\n",
      "\n"
     ]
    },
    {
     "name": "stdout",
     "output_type": "stream",
     "text": [
      "[19:32:44] WARNING: src/objective/regression_obj.cu:152: reg:linear is now deprecated in favor of reg:squarederror.\n",
      "Gradient Boosting R^2 0.8433435176566212\n"
     ]
    }
   ],
   "source": [
    "gb = make_pipeline(\n",
    "    ce.OrdinalEncoder(),\n",
    "    StandardScaler(),\n",
    "    SimpleImputer(strategy='median'), \n",
    "    XGBRegressor(\n",
    "        n_estimators=100, \n",
    "        n_jobs=-1,\n",
    "        max_depth=15,\n",
    "        learning_rate=0.1,\n",
    "        gamma=0.2\n",
    "    )\n",
    ")\n",
    "\n",
    "gb.fit(X_train, y_train)\n",
    "y_pred = gb.predict(X_val)\n",
    "print('Gradient Boosting R^2', r2_score(y_val, y_pred))"
   ]
  },
  {
   "cell_type": "code",
   "execution_count": 31,
   "metadata": {},
   "outputs": [
    {
     "name": "stdout",
     "output_type": "stream",
     "text": [
      "Gradient Boosting R^2 0.8118982963318925\n",
      "Gradient Boosting RMSE 0.1414205364870305\n"
     ]
    }
   ],
   "source": [
    "#TEST SCORES\n",
    "y_pred = gb.predict(X_test)\n",
    "print('Gradient Boosting R^2', r2_score(y_test, y_pred))\n",
    "print('Gradient Boosting RMSE', np.sqrt(mean_squared_error(y_test, y_pred)))"
   ]
  },
  {
   "cell_type": "code",
   "execution_count": null,
   "metadata": {},
   "outputs": [],
   "source": []
  }
 ],
 "metadata": {
  "kernelspec": {
   "display_name": "Python 3",
   "language": "python",
   "name": "python3"
  },
  "language_info": {
   "codemirror_mode": {
    "name": "ipython",
    "version": 3
   },
   "file_extension": ".py",
   "mimetype": "text/x-python",
   "name": "python",
   "nbconvert_exporter": "python",
   "pygments_lexer": "ipython3",
   "version": "3.7.3"
  }
 },
 "nbformat": 4,
 "nbformat_minor": 4
}
